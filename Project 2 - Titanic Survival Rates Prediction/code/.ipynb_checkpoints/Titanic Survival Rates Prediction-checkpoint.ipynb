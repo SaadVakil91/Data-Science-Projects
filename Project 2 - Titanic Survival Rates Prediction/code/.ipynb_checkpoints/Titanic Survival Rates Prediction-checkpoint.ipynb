{
 "cells": [
  {
   "cell_type": "markdown",
   "metadata": {},
   "source": [
    "# 1: Project Goal\n",
    "\n",
    "#### To predict survival of passengers aboard the titanic ship\n"
   ]
  },
  {
   "cell_type": "markdown",
   "metadata": {},
   "source": [
    "# 2: Data Reading"
   ]
  },
  {
   "cell_type": "code",
   "execution_count": 4,
   "metadata": {},
   "outputs": [],
   "source": [
    "# Importing Libraries\n",
    "import pandas as pd\n",
    "import numpy as np\n",
    "import matplotlib.pyplot as plt\n",
    "import seaborn as sns\n",
    "\n",
    "from sklearn.model_selection import train_test_split\n",
    "from sklearn.preprocessing import StandardScaler, MinMaxScaler, RobustScaler\n",
    "from sklearn.linear_model import LogisticRegression\n",
    "from sklearn.ensemble import RandomForestClassifier\n",
    "from sklearn.model_selection import cross_val_score"
   ]
  },
  {
   "cell_type": "code",
   "execution_count": 5,
   "metadata": {},
   "outputs": [],
   "source": [
    "# Reading the three datasets provided by kaggle and storing in a pandas dataframe\n",
    "titanic_train_df = pd.read_csv(\"C:/Users/saadv/Desktop/Spiced/Data-Science/Project 2 - Titanic Survival Rates Prediction/data/titanic_kaggle/train.csv\")"
   ]
  },
  {
   "cell_type": "markdown",
   "metadata": {},
   "source": [
    "# 3: Data Exploration"
   ]
  },
  {
   "cell_type": "markdown",
   "metadata": {},
   "source": [
    "#### 3.1 What does the data look like at a high level:\n",
    "\n",
    "* 891 rows of data\n",
    "* Few missing values in age column and lots of missing values in the cabin column\n",
    "* Columns are a combination of categorical, binary and continous\n"
   ]
  },
  {
   "cell_type": "code",
   "execution_count": 6,
   "metadata": {},
   "outputs": [
    {
     "data": {
      "text/html": [
       "<div>\n",
       "<style scoped>\n",
       "    .dataframe tbody tr th:only-of-type {\n",
       "        vertical-align: middle;\n",
       "    }\n",
       "\n",
       "    .dataframe tbody tr th {\n",
       "        vertical-align: top;\n",
       "    }\n",
       "\n",
       "    .dataframe thead th {\n",
       "        text-align: right;\n",
       "    }\n",
       "</style>\n",
       "<table border=\"1\" class=\"dataframe\">\n",
       "  <thead>\n",
       "    <tr style=\"text-align: right;\">\n",
       "      <th></th>\n",
       "      <th>PassengerId</th>\n",
       "      <th>Survived</th>\n",
       "      <th>Pclass</th>\n",
       "      <th>Name</th>\n",
       "      <th>Sex</th>\n",
       "      <th>Age</th>\n",
       "      <th>SibSp</th>\n",
       "      <th>Parch</th>\n",
       "      <th>Ticket</th>\n",
       "      <th>Fare</th>\n",
       "      <th>Cabin</th>\n",
       "      <th>Embarked</th>\n",
       "    </tr>\n",
       "  </thead>\n",
       "  <tbody>\n",
       "    <tr>\n",
       "      <th>0</th>\n",
       "      <td>1</td>\n",
       "      <td>0</td>\n",
       "      <td>3</td>\n",
       "      <td>Braund, Mr. Owen Harris</td>\n",
       "      <td>male</td>\n",
       "      <td>22.0</td>\n",
       "      <td>1</td>\n",
       "      <td>0</td>\n",
       "      <td>A/5 21171</td>\n",
       "      <td>7.2500</td>\n",
       "      <td>NaN</td>\n",
       "      <td>S</td>\n",
       "    </tr>\n",
       "    <tr>\n",
       "      <th>1</th>\n",
       "      <td>2</td>\n",
       "      <td>1</td>\n",
       "      <td>1</td>\n",
       "      <td>Cumings, Mrs. John Bradley (Florence Briggs Th...</td>\n",
       "      <td>female</td>\n",
       "      <td>38.0</td>\n",
       "      <td>1</td>\n",
       "      <td>0</td>\n",
       "      <td>PC 17599</td>\n",
       "      <td>71.2833</td>\n",
       "      <td>C85</td>\n",
       "      <td>C</td>\n",
       "    </tr>\n",
       "    <tr>\n",
       "      <th>2</th>\n",
       "      <td>3</td>\n",
       "      <td>1</td>\n",
       "      <td>3</td>\n",
       "      <td>Heikkinen, Miss. Laina</td>\n",
       "      <td>female</td>\n",
       "      <td>26.0</td>\n",
       "      <td>0</td>\n",
       "      <td>0</td>\n",
       "      <td>STON/O2. 3101282</td>\n",
       "      <td>7.9250</td>\n",
       "      <td>NaN</td>\n",
       "      <td>S</td>\n",
       "    </tr>\n",
       "    <tr>\n",
       "      <th>3</th>\n",
       "      <td>4</td>\n",
       "      <td>1</td>\n",
       "      <td>1</td>\n",
       "      <td>Futrelle, Mrs. Jacques Heath (Lily May Peel)</td>\n",
       "      <td>female</td>\n",
       "      <td>35.0</td>\n",
       "      <td>1</td>\n",
       "      <td>0</td>\n",
       "      <td>113803</td>\n",
       "      <td>53.1000</td>\n",
       "      <td>C123</td>\n",
       "      <td>S</td>\n",
       "    </tr>\n",
       "    <tr>\n",
       "      <th>4</th>\n",
       "      <td>5</td>\n",
       "      <td>0</td>\n",
       "      <td>3</td>\n",
       "      <td>Allen, Mr. William Henry</td>\n",
       "      <td>male</td>\n",
       "      <td>35.0</td>\n",
       "      <td>0</td>\n",
       "      <td>0</td>\n",
       "      <td>373450</td>\n",
       "      <td>8.0500</td>\n",
       "      <td>NaN</td>\n",
       "      <td>S</td>\n",
       "    </tr>\n",
       "  </tbody>\n",
       "</table>\n",
       "</div>"
      ],
      "text/plain": [
       "   PassengerId  Survived  Pclass  \\\n",
       "0            1         0       3   \n",
       "1            2         1       1   \n",
       "2            3         1       3   \n",
       "3            4         1       1   \n",
       "4            5         0       3   \n",
       "\n",
       "                                                Name     Sex   Age  SibSp  \\\n",
       "0                            Braund, Mr. Owen Harris    male  22.0      1   \n",
       "1  Cumings, Mrs. John Bradley (Florence Briggs Th...  female  38.0      1   \n",
       "2                             Heikkinen, Miss. Laina  female  26.0      0   \n",
       "3       Futrelle, Mrs. Jacques Heath (Lily May Peel)  female  35.0      1   \n",
       "4                           Allen, Mr. William Henry    male  35.0      0   \n",
       "\n",
       "   Parch            Ticket     Fare Cabin Embarked  \n",
       "0      0         A/5 21171   7.2500   NaN        S  \n",
       "1      0          PC 17599  71.2833   C85        C  \n",
       "2      0  STON/O2. 3101282   7.9250   NaN        S  \n",
       "3      0            113803  53.1000  C123        S  \n",
       "4      0            373450   8.0500   NaN        S  "
      ]
     },
     "execution_count": 6,
     "metadata": {},
     "output_type": "execute_result"
    }
   ],
   "source": [
    "titanic_train_df.head()"
   ]
  },
  {
   "cell_type": "code",
   "execution_count": 7,
   "metadata": {},
   "outputs": [
    {
     "name": "stdout",
     "output_type": "stream",
     "text": [
      "<class 'pandas.core.frame.DataFrame'>\n",
      "RangeIndex: 891 entries, 0 to 890\n",
      "Data columns (total 12 columns):\n",
      " #   Column       Non-Null Count  Dtype  \n",
      "---  ------       --------------  -----  \n",
      " 0   PassengerId  891 non-null    int64  \n",
      " 1   Survived     891 non-null    int64  \n",
      " 2   Pclass       891 non-null    int64  \n",
      " 3   Name         891 non-null    object \n",
      " 4   Sex          891 non-null    object \n",
      " 5   Age          714 non-null    float64\n",
      " 6   SibSp        891 non-null    int64  \n",
      " 7   Parch        891 non-null    int64  \n",
      " 8   Ticket       891 non-null    object \n",
      " 9   Fare         891 non-null    float64\n",
      " 10  Cabin        204 non-null    object \n",
      " 11  Embarked     889 non-null    object \n",
      "dtypes: float64(2), int64(5), object(5)\n",
      "memory usage: 83.7+ KB\n"
     ]
    }
   ],
   "source": [
    "titanic_train_df.info()"
   ]
  },
  {
   "cell_type": "code",
   "execution_count": 8,
   "metadata": {},
   "outputs": [
    {
     "name": "stdout",
     "output_type": "stream",
     "text": [
      "Number of possible unique values for: \n",
      "- -- -- -- -- -- -- -- -- -- -- -- -- -- -- -- -- -- -- -- -\n",
      "Survived column: [0 1] -> Binary\n",
      "Pclass column: [3 1 2] -> Categorical\n",
      "Name column: -> Text\n",
      "Sex column: ['male' 'female'] -> Categorical\n",
      "Age column: -> Continous\n",
      "SibSp column: [1 0 3 4 2 5 8] -> Categorical\n",
      "Parch column: [0 1 2 5 3 4 6] -> Categorical\n",
      "Embarked column: ['S' 'C' 'Q' nan] -> Categorical\n"
     ]
    }
   ],
   "source": [
    "print(\"Number of possible unique values for: \")\n",
    "print(\"- -\"* 20)\n",
    "print(\"Survived column: \" +str(titanic_train_df[\"Survived\"].unique())+\" -> Binary\")\n",
    "print(\"Pclass column: \" +str(titanic_train_df[\"Pclass\"].unique())+\" -> Categorical\")\n",
    "print(\"Name column: -> Text\")\n",
    "print(\"Sex column: \" +str(titanic_train_df[\"Sex\"].unique())+\" -> Categorical\")\n",
    "print(\"Age column: -> Continous\")\n",
    "print(\"SibSp column: \" +str(titanic_train_df[\"SibSp\"].unique())+\" -> Categorical\")\n",
    "print(\"Parch column: \" +str(titanic_train_df[\"Parch\"].unique())+\" -> Categorical\")\n",
    "print(\"Embarked column: \" +str(titanic_train_df[\"Embarked\"].unique())+\" -> Categorical\")"
   ]
  },
  {
   "cell_type": "markdown",
   "metadata": {},
   "source": [
    "#### 3.2 General information and statistics from the dataset\n",
    "\n",
    "##### 3.2.1 Statistics by Sex\n",
    "##### Observation:\n",
    "* 38% of the total passengers in the dataset survied\n",
    "* 35% of the total passengers in the dataset are female\n",
    " * 74% of the Female passengers survived where as only 19% of the total male passengers survived\n",
    "\n",
    "##### Conclusion:\n",
    "* This implies that there is strong correlation between Survival Rates and Sex and therefore Sex should be used as a feature in the model\n",
    "\n",
    "\n",
    "\n",
    "\n",
    "* Only 30% of the passengers that were alone onboard the titanic survived compared to 51% for people with family members.\n",
    " * This suggests that there is some correlation between being alone vs having a family member while onboard the titanic. Hence it can be a useful feature to include in the model."
   ]
  },
  {
   "cell_type": "code",
   "execution_count": 9,
   "metadata": {},
   "outputs": [
    {
     "data": {
      "text/plain": [
       "Text(0.5, 0, 'Not Survived:0 or Survived: 1')"
      ]
     },
     "execution_count": 9,
     "metadata": {},
     "output_type": "execute_result"
    },
    {
     "data": {
      "image/png": "[encoded data removed]",
      "text/plain": [
       "<Figure size 432x288 with 1 Axes>"
      ]
     },
     "metadata": {
      "needs_background": "light"
     },
     "output_type": "display_data"
    }
   ],
   "source": [
    "color_dict = dict({0: \"#583d72\", 1: '#fa9905'})\n",
    "sns.countplot(x=\"Survived\",data=titanic_train_df,hue=\"Survived\",palette=color_dict)\n",
    "plt.title(\"Number of passengers survived (1) versus not survived (0)\")\n",
    "plt.xlabel(\"Not Survived:0 or Survived: 1\")"
   ]
  },
  {
   "cell_type": "code",
   "execution_count": 15,
   "metadata": {},
   "outputs": [],
   "source": [
    "count_survived = pd.DataFrame(titanic_train_df.groupby([\"Survived\"])[\"PassengerId\"].count()).rename(columns={\"PassengerId\":\"Count of Passengers\"})"
   ]
  },
  {
   "cell_type": "code",
   "execution_count": 16,
   "metadata": {},
   "outputs": [
    {
     "name": "stdout",
     "output_type": "stream",
     "text": [
      "Percentage of passengers that died: 62\n",
      "Percentage of passengers that survived: 38\n"
     ]
    }
   ],
   "source": [
    "print(\"Percentage of passengers that died: \"+str(round(count_survived[\"Count of Passengers\"][0]/count_survived[\"Count of Passengers\"].sum()*100)))\n",
    "print(\"Percentage of passengers that survived: \"+str(round(count_survived[\"Count of Passengers\"][1]/count_survived[\"Count of Passengers\"].sum()*100)))"
   ]
  },
  {
   "cell_type": "code",
   "execution_count": 17,
   "metadata": {},
   "outputs": [],
   "source": [
    "count_sex = pd.DataFrame(titanic_train_df.groupby([\"Sex\"])[\"PassengerId\"].count()).rename(columns={\"PassengerId\":\"Count of Passengers\"})"
   ]
  },
  {
   "cell_type": "code",
   "execution_count": 18,
   "metadata": {},
   "outputs": [
    {
     "name": "stdout",
     "output_type": "stream",
     "text": [
      "Percentage of female passengers: 35\n",
      "Percentage of male passengers: 65\n"
     ]
    }
   ],
   "source": [
    "print(\"Percentage of female passengers: \"+str(round(count_sex[\"Count of Passengers\"][0]/count_sex[\"Count of Passengers\"].sum()*100)))\n",
    "print(\"Percentage of male passengers: \"+str(round(count_sex[\"Count of Passengers\"][1]/count_sex[\"Count of Passengers\"].sum()*100)))"
   ]
  },
  {
   "cell_type": "code",
   "execution_count": 959,
   "metadata": {},
   "outputs": [
    {
     "data": {
      "text/plain": [
       "Text(0.5, 0, 'Not Survived:0 or Survived: 1')"
      ]
     },
     "execution_count": 959,
     "metadata": {},
     "output_type": "execute_result"
    },
    {
     "data": {
      "image/png": "[encoded data removed]",
      "text/plain": [
       "<Figure size 432x288 with 1 Axes>"
      ]
     },
     "metadata": {
      "needs_background": "light"
     },
     "output_type": "display_data"
    }
   ],
   "source": [
    "color_dict = dict({\"male\":\"#583d72\", \"female\": '#fa9905'})\n",
    "sns.countplot(x=\"Survived\",data=titanic_train_df,hue=\"Sex\",palette=color_dict)\n",
    "plt.title(\"Survived or Not Survived count by Sex\")\n",
    "plt.xlabel(\"Not Survived:0 or Survived: 1\")"
   ]
  },
  {
   "cell_type": "code",
   "execution_count": 961,
   "metadata": {},
   "outputs": [],
   "source": [
    "count_sex_s = pd.DataFrame(titanic_train_df.groupby([\"Survived\",\"Sex\"])[\"PassengerId\"].count()).rename(columns={\"PassengerId\":\"Count of Passengers\"})"
   ]
  },
  {
   "cell_type": "code",
   "execution_count": 962,
   "metadata": {},
   "outputs": [
    {
     "name": "stdout",
     "output_type": "stream",
     "text": [
      "Percentage of female passengers that survived: 74\n",
      "Percentage of male passengers that survived: 19\n"
     ]
    }
   ],
   "source": [
    "print(\"Percentage of female passengers that survived: \"+str(round(count_sex_s.loc[(1,\"female\"),:].sum()/(count_sex_s.loc[(0,\"female\"),:].sum()+count_sex_s.loc[(1,\"female\"),:].sum())*100)))\n",
    "print(\"Percentage of male passengers that survived: \"+str(round(count_sex_s.loc[(1,\"male\"),:].sum()/(count_sex_s.loc[(0,\"male\"),:].sum()+count_sex_s.loc[(1,\"male\"),:].sum())*100)))"
   ]
  },
  {
   "cell_type": "markdown",
   "metadata": {},
   "source": [
    "##### 3.2.2 Statistics by Ticket Class\n",
    "##### Observation:\n",
    "* \"Ticket Class 1\" had the highest survival rate followed by \"Ticket Class 2\".\n",
    " * 63% of Class 1 Passengers survived compared with 47% and 24% of Class 2 and 3 passengers\n",
    " * Majority of the females from Ticket Class 1 and 2 survived\n",
    "  * 95% of Females from Ticket class 1 and 2 survived\n",
    "  * 27% of Males from Ticket class 1 and 2 survived\n",
    "\n",
    "##### Conclusion:\n",
    "* This implies that there is strong correlation between Survival Rates and Ticket Class and therefore should be used as a feature in the model"
   ]
  },
  {
   "cell_type": "code",
   "execution_count": 19,
   "metadata": {},
   "outputs": [
    {
     "data": {
      "text/plain": [
       "Text(0.5, 0, 'Not Survived:0 or Survived: 1')"
      ]
     },
     "execution_count": 19,
     "metadata": {},
     "output_type": "execute_result"
    },
    {
     "data": {
      "image/png": "[encoded data removed]",
      "text/plain": [
       "<Figure size 432x288 with 1 Axes>"
      ]
     },
     "metadata": {
      "needs_background": "light"
     },
     "output_type": "display_data"
    }
   ],
   "source": [
    "color_dict = dict({1:\"#583d72\", 2: '#fa9905', 3:\"#03c4a1\"})\n",
    "sns.countplot(x=\"Survived\",data=titanic_train_df,hue=\"Pclass\",palette=color_dict)\n",
    "plt.title(\"Survived or Not Survived count by Ticket Class\")\n",
    "plt.xlabel(\"Not Survived:0 or Survived: 1\")"
   ]
  },
  {
   "cell_type": "code",
   "execution_count": 20,
   "metadata": {},
   "outputs": [],
   "source": [
    "count_pclass = pd.DataFrame(titanic_train_df.groupby([\"Survived\",\"Pclass\"])[\"PassengerId\"].count()).rename(columns={\"PassengerId\":\"Count of Passengers\"})"
   ]
  },
  {
   "cell_type": "code",
   "execution_count": 21,
   "metadata": {},
   "outputs": [
    {
     "name": "stdout",
     "output_type": "stream",
     "text": [
      "Percentage of Ticket Class 1 passengers that survived: 63\n",
      "Percentage of Ticket Class 2 passengers that survived: 47\n",
      "Percentage of Ticket Class 3 passengers that survived: 24\n"
     ]
    }
   ],
   "source": [
    "print(\"Percentage of Ticket Class 1 passengers that survived: \"+str(round(count_pclass.loc[(1,1),:].sum()/(count_pclass.loc[(0,1),:].sum()+count_pclass.loc[(1,1),:].sum())*100)))\n",
    "print(\"Percentage of Ticket Class 2 passengers that survived: \"+str(round(count_pclass.loc[(1,2),:].sum()/(count_pclass.loc[(0,2),:].sum()+count_pclass.loc[(1,2),:].sum())*100)))\n",
    "print(\"Percentage of Ticket Class 3 passengers that survived: \"+str(round(count_pclass.loc[(1,3),:].sum()/(count_pclass.loc[(0,3),:].sum()+count_pclass.loc[(1,3),:].sum())*100)))"
   ]
  },
  {
   "cell_type": "code",
   "execution_count": 22,
   "metadata": {},
   "outputs": [
    {
     "data": {
      "text/html": [
       "<div>\n",
       "<style scoped>\n",
       "    .dataframe tbody tr th:only-of-type {\n",
       "        vertical-align: middle;\n",
       "    }\n",
       "\n",
       "    .dataframe tbody tr th {\n",
       "        vertical-align: top;\n",
       "    }\n",
       "\n",
       "    .dataframe thead th {\n",
       "        text-align: right;\n",
       "    }\n",
       "</style>\n",
       "<table border=\"1\" class=\"dataframe\">\n",
       "  <thead>\n",
       "    <tr style=\"text-align: right;\">\n",
       "      <th></th>\n",
       "      <th></th>\n",
       "      <th></th>\n",
       "      <th>Count of Passengers</th>\n",
       "    </tr>\n",
       "    <tr>\n",
       "      <th>Survived</th>\n",
       "      <th>Sex</th>\n",
       "      <th>Pclass</th>\n",
       "      <th></th>\n",
       "    </tr>\n",
       "  </thead>\n",
       "  <tbody>\n",
       "    <tr>\n",
       "      <th rowspan=\"6\" valign=\"top\">0</th>\n",
       "      <th rowspan=\"3\" valign=\"top\">female</th>\n",
       "      <th>1</th>\n",
       "      <td>3</td>\n",
       "    </tr>\n",
       "    <tr>\n",
       "      <th>2</th>\n",
       "      <td>6</td>\n",
       "    </tr>\n",
       "    <tr>\n",
       "      <th>3</th>\n",
       "      <td>72</td>\n",
       "    </tr>\n",
       "    <tr>\n",
       "      <th rowspan=\"3\" valign=\"top\">male</th>\n",
       "      <th>1</th>\n",
       "      <td>77</td>\n",
       "    </tr>\n",
       "    <tr>\n",
       "      <th>2</th>\n",
       "      <td>91</td>\n",
       "    </tr>\n",
       "    <tr>\n",
       "      <th>3</th>\n",
       "      <td>300</td>\n",
       "    </tr>\n",
       "    <tr>\n",
       "      <th rowspan=\"6\" valign=\"top\">1</th>\n",
       "      <th rowspan=\"3\" valign=\"top\">female</th>\n",
       "      <th>1</th>\n",
       "      <td>91</td>\n",
       "    </tr>\n",
       "    <tr>\n",
       "      <th>2</th>\n",
       "      <td>70</td>\n",
       "    </tr>\n",
       "    <tr>\n",
       "      <th>3</th>\n",
       "      <td>72</td>\n",
       "    </tr>\n",
       "    <tr>\n",
       "      <th rowspan=\"3\" valign=\"top\">male</th>\n",
       "      <th>1</th>\n",
       "      <td>45</td>\n",
       "    </tr>\n",
       "    <tr>\n",
       "      <th>2</th>\n",
       "      <td>17</td>\n",
       "    </tr>\n",
       "    <tr>\n",
       "      <th>3</th>\n",
       "      <td>47</td>\n",
       "    </tr>\n",
       "  </tbody>\n",
       "</table>\n",
       "</div>"
      ],
      "text/plain": [
       "                        Count of Passengers\n",
       "Survived Sex    Pclass                     \n",
       "0        female 1                         3\n",
       "                2                         6\n",
       "                3                        72\n",
       "         male   1                        77\n",
       "                2                        91\n",
       "                3                       300\n",
       "1        female 1                        91\n",
       "                2                        70\n",
       "                3                        72\n",
       "         male   1                        45\n",
       "                2                        17\n",
       "                3                        47"
      ]
     },
     "execution_count": 22,
     "metadata": {},
     "output_type": "execute_result"
    }
   ],
   "source": [
    "pd.DataFrame(titanic_train_df.groupby([\"Survived\",\"Sex\",\"Pclass\"])[\"PassengerId\"].count()).rename(columns={\"PassengerId\":\"Count of Passengers\"})"
   ]
  },
  {
   "cell_type": "code",
   "execution_count": 23,
   "metadata": {},
   "outputs": [],
   "source": [
    "count_s_s_p = pd.DataFrame(titanic_train_df.groupby([\"Survived\",\"Sex\",\"Pclass\"])[\"PassengerId\"].count()).rename(columns={\"PassengerId\":\"Count of Passengers\"})"
   ]
  },
  {
   "cell_type": "code",
   "execution_count": 26,
   "metadata": {},
   "outputs": [
    {
     "name": "stdout",
     "output_type": "stream",
     "text": [
      "Percentage of females in Class 1 and Class 2 that Survived: Count of Passengers    95.0\n",
      "dtype: float64\n",
      "Percentage of males in Class 1 and Class 2 that Survived: Count of Passengers    27.0\n",
      "dtype: float64\n"
     ]
    }
   ],
   "source": [
    "print(\"Percentage of females in Class 1 and Class 2 that Survived: \"+str(round(count_s_s_p.loc[[(1,\"female\",1),(1,\"female\",2)],:].sum()/(count_s_s_p.loc[[(1,\"female\",1),(1,\"female\",2),(0,\"female\",1),(0,\"female\",2)],:].sum())*100)))\n",
    "print(\"Percentage of males in Class 1 and Class 2 that Survived: \"+str(round(count_s_s_p.loc[[(1,\"male\",1),(1,\"male\",2)],:].sum()/(count_s_s_p.loc[[(1,\"male\",1),(1,\"male\",2),(0,\"male\",1),(0,\"male\",2)],:].sum())*100)))"
   ]
  },
  {
   "cell_type": "markdown",
   "metadata": {},
   "source": [
    "##### 3.2.3 Statistics by Age\n",
    "##### Observation:\n",
    "* Majority of the people on board the titanic fall between 16 to 48 age group.\n",
    "* Children between age 0 to 9 had higher survival rates compared to other age brackets.\n",
    "\n",
    "##### Conclusion:\n",
    "* This implies that there is some correlation between survival rates and age. In general younger passengers had higher survival rates. Age should be used as a feature in the training model."
   ]
  },
  {
   "cell_type": "code",
   "execution_count": 27,
   "metadata": {},
   "outputs": [
    {
     "data": {
      "text/plain": [
       "<AxesSubplot:>"
      ]
     },
     "execution_count": 27,
     "metadata": {},
     "output_type": "execute_result"
    },
    {
     "data": {
      "image/png": "[encoded data removed]",
      "text/plain": [
       "<Figure size 432x288 with 1 Axes>"
      ]
     },
     "metadata": {
      "needs_background": "light"
     },
     "output_type": "display_data"
    }
   ],
   "source": [
    "titanic_train_df[\"Age\"].hist()"
   ]
  },
  {
   "cell_type": "code",
   "execution_count": 28,
   "metadata": {},
   "outputs": [
    {
     "data": {
      "text/plain": [
       "<seaborn.axisgrid.FacetGrid at 0x2ee4463ab70>"
      ]
     },
     "execution_count": 28,
     "metadata": {},
     "output_type": "execute_result"
    },
    {
     "data": {
      "image/png": "[encoded data removed]",
      "text/plain": [
       "<Figure size 432x216 with 2 Axes>"
      ]
     },
     "metadata": {
      "needs_background": "light"
     },
     "output_type": "display_data"
    }
   ],
   "source": [
    "# Children between age 0 to 9 had higher survival rates compared to other age brackets.\n",
    "g = sns.FacetGrid(titanic_train_df, col='Survived')\n",
    "g.map(plt.hist, 'Age', bins=20)"
   ]
  },
  {
   "cell_type": "markdown",
   "metadata": {},
   "source": [
    "##### 3.2.4 Statistics by port from where the passengers embarked\n",
    "##### Observation:\n",
    "* Relatively more passengers that embarked from Cherbourg surivived (55%). Compared to 39% and 34% for Queenstown and Southampton respectively.\n",
    "\n",
    "##### Conclusion:\n",
    "* This implies people that embarked from Cherbourg had higher chance of survival and hence Embarked column should also be used as a feature for the training model.\n"
   ]
  },
  {
   "cell_type": "code",
   "execution_count": 29,
   "metadata": {
    "scrolled": true
   },
   "outputs": [
    {
     "data": {
      "text/html": [
       "<div>\n",
       "<style scoped>\n",
       "    .dataframe tbody tr th:only-of-type {\n",
       "        vertical-align: middle;\n",
       "    }\n",
       "\n",
       "    .dataframe tbody tr th {\n",
       "        vertical-align: top;\n",
       "    }\n",
       "\n",
       "    .dataframe thead th {\n",
       "        text-align: right;\n",
       "    }\n",
       "</style>\n",
       "<table border=\"1\" class=\"dataframe\">\n",
       "  <thead>\n",
       "    <tr style=\"text-align: right;\">\n",
       "      <th></th>\n",
       "      <th></th>\n",
       "      <th>Count of Passengers</th>\n",
       "    </tr>\n",
       "    <tr>\n",
       "      <th>Survived</th>\n",
       "      <th>Embarked</th>\n",
       "      <th></th>\n",
       "    </tr>\n",
       "  </thead>\n",
       "  <tbody>\n",
       "    <tr>\n",
       "      <th rowspan=\"3\" valign=\"top\">0</th>\n",
       "      <th>C</th>\n",
       "      <td>75</td>\n",
       "    </tr>\n",
       "    <tr>\n",
       "      <th>Q</th>\n",
       "      <td>47</td>\n",
       "    </tr>\n",
       "    <tr>\n",
       "      <th>S</th>\n",
       "      <td>427</td>\n",
       "    </tr>\n",
       "    <tr>\n",
       "      <th rowspan=\"3\" valign=\"top\">1</th>\n",
       "      <th>C</th>\n",
       "      <td>93</td>\n",
       "    </tr>\n",
       "    <tr>\n",
       "      <th>Q</th>\n",
       "      <td>30</td>\n",
       "    </tr>\n",
       "    <tr>\n",
       "      <th>S</th>\n",
       "      <td>217</td>\n",
       "    </tr>\n",
       "  </tbody>\n",
       "</table>\n",
       "</div>"
      ],
      "text/plain": [
       "                   Count of Passengers\n",
       "Survived Embarked                     \n",
       "0        C                          75\n",
       "         Q                          47\n",
       "         S                         427\n",
       "1        C                          93\n",
       "         Q                          30\n",
       "         S                         217"
      ]
     },
     "execution_count": 29,
     "metadata": {},
     "output_type": "execute_result"
    }
   ],
   "source": [
    "pd.DataFrame(titanic_train_df.groupby([\"Survived\",\"Embarked\"])[\"PassengerId\"].count()).rename(columns={\"PassengerId\":\"Count of Passengers\"})"
   ]
  },
  {
   "cell_type": "code",
   "execution_count": 30,
   "metadata": {},
   "outputs": [],
   "source": [
    "count_s_e = pd.DataFrame(titanic_train_df.groupby([\"Survived\",\"Embarked\"])[\"PassengerId\"].count()).rename(columns={\"PassengerId\":\"Count of Passengers\"})"
   ]
  },
  {
   "cell_type": "code",
   "execution_count": 31,
   "metadata": {},
   "outputs": [
    {
     "name": "stdout",
     "output_type": "stream",
     "text": [
      "Percentage of passengers that embarked from Cherbourg and Survived: 55\n",
      "Percentage of passengers that embarked from Queenstown and Survived: 39\n",
      "Percentage of passengers that embarked from Southampton and Survived: 34\n"
     ]
    }
   ],
   "source": [
    "print(\"Percentage of passengers that embarked from Cherbourg and Survived: \"+str(round(count_s_e.loc[(1,\"C\"),:].sum()/(count_s_e.loc[(0,\"C\"),:].sum()+count_s_e.loc[(1,\"C\"),:].sum())*100)))\n",
    "print(\"Percentage of passengers that embarked from Queenstown and Survived: \"+str(round(count_s_e.loc[(1,\"Q\"),:].sum()/(count_s_e.loc[(0,\"Q\"),:].sum()+count_s_e.loc[(1,\"Q\"),:].sum())*100)))\n",
    "print(\"Percentage of passengers that embarked from Southampton and Survived: \"+str(round(count_s_e.loc[(1,\"S\"),:].sum()/(count_s_e.loc[(0,\"S\"),:].sum()+count_s_e.loc[(1,\"S\"),:].sum())*100)))"
   ]
  },
  {
   "cell_type": "markdown",
   "metadata": {},
   "source": [
    "##### 3.2.5 Statistics by Passengers being alone or with someone in titanic\n",
    "##### Observation:\n",
    "* Only 30% of the passengers that were alone onboard the titanic survived compared to 51% for people with family members\n",
    "\n",
    "##### Conclusion:\n",
    "* This suggests that chances of survival was higher if you were with a relation in titanic. Hence this would also be an important feature to be trained in the model."
   ]
  },
  {
   "cell_type": "code",
   "execution_count": 38,
   "metadata": {},
   "outputs": [],
   "source": [
    "# Function to create a new column with value 1 if the passenger had a relation on board and 0 if the passenger was alone\n",
    "def Par_Sib_bin(Par_Sib_df):\n",
    "    ParSib_bin = []\n",
    "    for i in Par_Sib_df:\n",
    "        if i >= 1:\n",
    "            ParSib_bin.append(1)\n",
    "        else:\n",
    "            ParSib_bin.append(0)\n",
    "            \n",
    "    return ParSib_bin"
   ]
  },
  {
   "cell_type": "code",
   "execution_count": 33,
   "metadata": {},
   "outputs": [],
   "source": [
    "titanic_train_df[\"SibSp_binned\"]=Par_Sib_bin(titanic_train_df[\"SibSp\"])\n",
    "titanic_train_df[\"Parch_binned\"]=Par_Sib_bin(titanic_train_df[\"Parch\"])"
   ]
  },
  {
   "cell_type": "code",
   "execution_count": 36,
   "metadata": {},
   "outputs": [
    {
     "name": "stdout",
     "output_type": "stream",
     "text": [
      "Total number of passengers that were alone and survived: 30\n"
     ]
    }
   ],
   "source": [
    "print(\"Total number of passengers that were alone and survived: \" +str(round(titanic_train_df[(titanic_train_df[\"SibSp_binned\"]==0) & (titanic_train_df[\"Parch_binned\"]==0)].groupby(\"Survived\")[\"PassengerId\"].count()[1]/titanic_train_df[(titanic_train_df[\"SibSp_binned\"]==0) & (titanic_train_df[\"Parch_binned\"]==0)].groupby(\"Survived\")[\"PassengerId\"].count().sum()*100)))"
   ]
  },
  {
   "cell_type": "code",
   "execution_count": 37,
   "metadata": {},
   "outputs": [
    {
     "name": "stdout",
     "output_type": "stream",
     "text": [
      "Total number of passengers that were not alone and survived: 51\n"
     ]
    }
   ],
   "source": [
    "print(\"Total number of passengers that were not alone and survived: \" +str(round(titanic_train_df[(titanic_train_df[\"SibSp_binned\"]==1) | (titanic_train_df[\"Parch_binned\"]==1)].groupby(\"Survived\")[\"PassengerId\"].count()[1]/titanic_train_df[(titanic_train_df[\"SibSp_binned\"]==1) | (titanic_train_df[\"Parch_binned\"]==1)].groupby(\"Survived\")[\"PassengerId\"].count().sum()*100)))"
   ]
  },
  {
   "cell_type": "markdown",
   "metadata": {},
   "source": [
    "## 4: Feature Engineering\n",
    "\n",
    "#### Summary:\n",
    "* Filling Age and Embarked column"
   ]
  },
  {
   "cell_type": "code",
   "execution_count": 39,
   "metadata": {},
   "outputs": [
    {
     "data": {
      "text/html": [
       "<div>\n",
       "<style scoped>\n",
       "    .dataframe tbody tr th:only-of-type {\n",
       "        vertical-align: middle;\n",
       "    }\n",
       "\n",
       "    .dataframe tbody tr th {\n",
       "        vertical-align: top;\n",
       "    }\n",
       "\n",
       "    .dataframe thead th {\n",
       "        text-align: right;\n",
       "    }\n",
       "</style>\n",
       "<table border=\"1\" class=\"dataframe\">\n",
       "  <thead>\n",
       "    <tr style=\"text-align: right;\">\n",
       "      <th></th>\n",
       "      <th>PassengerId</th>\n",
       "      <th>Survived</th>\n",
       "      <th>Pclass</th>\n",
       "      <th>Name</th>\n",
       "      <th>Sex</th>\n",
       "      <th>Age</th>\n",
       "      <th>SibSp</th>\n",
       "      <th>Parch</th>\n",
       "      <th>Ticket</th>\n",
       "      <th>Fare</th>\n",
       "      <th>Cabin</th>\n",
       "      <th>Embarked</th>\n",
       "      <th>SibSp_binned</th>\n",
       "      <th>Parch_binned</th>\n",
       "    </tr>\n",
       "  </thead>\n",
       "  <tbody>\n",
       "    <tr>\n",
       "      <th>0</th>\n",
       "      <td>1</td>\n",
       "      <td>0</td>\n",
       "      <td>3</td>\n",
       "      <td>Braund, Mr. Owen Harris</td>\n",
       "      <td>male</td>\n",
       "      <td>22.0</td>\n",
       "      <td>1</td>\n",
       "      <td>0</td>\n",
       "      <td>A/5 21171</td>\n",
       "      <td>7.2500</td>\n",
       "      <td>NaN</td>\n",
       "      <td>S</td>\n",
       "      <td>1</td>\n",
       "      <td>0</td>\n",
       "    </tr>\n",
       "    <tr>\n",
       "      <th>1</th>\n",
       "      <td>2</td>\n",
       "      <td>1</td>\n",
       "      <td>1</td>\n",
       "      <td>Cumings, Mrs. John Bradley (Florence Briggs Th...</td>\n",
       "      <td>female</td>\n",
       "      <td>38.0</td>\n",
       "      <td>1</td>\n",
       "      <td>0</td>\n",
       "      <td>PC 17599</td>\n",
       "      <td>71.2833</td>\n",
       "      <td>C85</td>\n",
       "      <td>C</td>\n",
       "      <td>1</td>\n",
       "      <td>0</td>\n",
       "    </tr>\n",
       "    <tr>\n",
       "      <th>2</th>\n",
       "      <td>3</td>\n",
       "      <td>1</td>\n",
       "      <td>3</td>\n",
       "      <td>Heikkinen, Miss. Laina</td>\n",
       "      <td>female</td>\n",
       "      <td>26.0</td>\n",
       "      <td>0</td>\n",
       "      <td>0</td>\n",
       "      <td>STON/O2. 3101282</td>\n",
       "      <td>7.9250</td>\n",
       "      <td>NaN</td>\n",
       "      <td>S</td>\n",
       "      <td>0</td>\n",
       "      <td>0</td>\n",
       "    </tr>\n",
       "    <tr>\n",
       "      <th>3</th>\n",
       "      <td>4</td>\n",
       "      <td>1</td>\n",
       "      <td>1</td>\n",
       "      <td>Futrelle, Mrs. Jacques Heath (Lily May Peel)</td>\n",
       "      <td>female</td>\n",
       "      <td>35.0</td>\n",
       "      <td>1</td>\n",
       "      <td>0</td>\n",
       "      <td>113803</td>\n",
       "      <td>53.1000</td>\n",
       "      <td>C123</td>\n",
       "      <td>S</td>\n",
       "      <td>1</td>\n",
       "      <td>0</td>\n",
       "    </tr>\n",
       "    <tr>\n",
       "      <th>4</th>\n",
       "      <td>5</td>\n",
       "      <td>0</td>\n",
       "      <td>3</td>\n",
       "      <td>Allen, Mr. William Henry</td>\n",
       "      <td>male</td>\n",
       "      <td>35.0</td>\n",
       "      <td>0</td>\n",
       "      <td>0</td>\n",
       "      <td>373450</td>\n",
       "      <td>8.0500</td>\n",
       "      <td>NaN</td>\n",
       "      <td>S</td>\n",
       "      <td>0</td>\n",
       "      <td>0</td>\n",
       "    </tr>\n",
       "    <tr>\n",
       "      <th>5</th>\n",
       "      <td>6</td>\n",
       "      <td>0</td>\n",
       "      <td>3</td>\n",
       "      <td>Moran, Mr. James</td>\n",
       "      <td>male</td>\n",
       "      <td>NaN</td>\n",
       "      <td>0</td>\n",
       "      <td>0</td>\n",
       "      <td>330877</td>\n",
       "      <td>8.4583</td>\n",
       "      <td>NaN</td>\n",
       "      <td>Q</td>\n",
       "      <td>0</td>\n",
       "      <td>0</td>\n",
       "    </tr>\n",
       "  </tbody>\n",
       "</table>\n",
       "</div>"
      ],
      "text/plain": [
       "   PassengerId  Survived  Pclass  \\\n",
       "0            1         0       3   \n",
       "1            2         1       1   \n",
       "2            3         1       3   \n",
       "3            4         1       1   \n",
       "4            5         0       3   \n",
       "5            6         0       3   \n",
       "\n",
       "                                                Name     Sex   Age  SibSp  \\\n",
       "0                            Braund, Mr. Owen Harris    male  22.0      1   \n",
       "1  Cumings, Mrs. John Bradley (Florence Briggs Th...  female  38.0      1   \n",
       "2                             Heikkinen, Miss. Laina  female  26.0      0   \n",
       "3       Futrelle, Mrs. Jacques Heath (Lily May Peel)  female  35.0      1   \n",
       "4                           Allen, Mr. William Henry    male  35.0      0   \n",
       "5                                   Moran, Mr. James    male   NaN      0   \n",
       "\n",
       "   Parch            Ticket     Fare Cabin Embarked  SibSp_binned  Parch_binned  \n",
       "0      0         A/5 21171   7.2500   NaN        S             1             0  \n",
       "1      0          PC 17599  71.2833   C85        C             1             0  \n",
       "2      0  STON/O2. 3101282   7.9250   NaN        S             0             0  \n",
       "3      0            113803  53.1000  C123        S             1             0  \n",
       "4      0            373450   8.0500   NaN        S             0             0  \n",
       "5      0            330877   8.4583   NaN        Q             0             0  "
      ]
     },
     "execution_count": 39,
     "metadata": {},
     "output_type": "execute_result"
    }
   ],
   "source": [
    "titanic_train_df.head(6)"
   ]
  },
  {
   "cell_type": "markdown",
   "metadata": {},
   "source": [
    "#### 4.1 How to fill the 177 missing values in Age column?\n",
    "\n",
    "#### Obervation:\n",
    "* Age distributions vary by ticket class.\n",
    "* Ticket Class 3 has the most amount of younger passengers compared to Ticket class 1 and 2.\n",
    "\n",
    "#### Conclusion\n",
    "* Mean for ages in each Ticket Class can be used to fill the missing values of age"
   ]
  },
  {
   "cell_type": "code",
   "execution_count": 977,
   "metadata": {},
   "outputs": [
    {
     "data": {
      "text/plain": [
       "177"
      ]
     },
     "execution_count": 977,
     "metadata": {},
     "output_type": "execute_result"
    }
   ],
   "source": [
    "sum(titanic_train_df[\"Age\"].isna())"
   ]
  },
  {
   "cell_type": "code",
   "execution_count": 40,
   "metadata": {},
   "outputs": [
    {
     "data": {
      "text/plain": [
       "<seaborn.axisgrid.FacetGrid at 0x2ee447ac860>"
      ]
     },
     "execution_count": 40,
     "metadata": {},
     "output_type": "execute_result"
    },
    {
     "data": {
      "image/png": "[encoded data removed]",
      "text/plain": [
       "<Figure size 648x216 with 3 Axes>"
      ]
     },
     "metadata": {
      "needs_background": "light"
     },
     "output_type": "display_data"
    }
   ],
   "source": [
    "g = sns.FacetGrid(titanic_train_df, col='Pclass')\n",
    "g.map(plt.hist, 'Age', bins=20)"
   ]
  },
  {
   "cell_type": "markdown",
   "metadata": {},
   "source": [
    "#### Calculating Mean age for the dataset based on the Ticket class"
   ]
  },
  {
   "cell_type": "code",
   "execution_count": 41,
   "metadata": {},
   "outputs": [
    {
     "data": {
      "text/html": [
       "<div>\n",
       "<style scoped>\n",
       "    .dataframe tbody tr th:only-of-type {\n",
       "        vertical-align: middle;\n",
       "    }\n",
       "\n",
       "    .dataframe tbody tr th {\n",
       "        vertical-align: top;\n",
       "    }\n",
       "\n",
       "    .dataframe thead th {\n",
       "        text-align: right;\n",
       "    }\n",
       "</style>\n",
       "<table border=\"1\" class=\"dataframe\">\n",
       "  <thead>\n",
       "    <tr style=\"text-align: right;\">\n",
       "      <th></th>\n",
       "      <th>Pclass</th>\n",
       "      <th>Age</th>\n",
       "    </tr>\n",
       "  </thead>\n",
       "  <tbody>\n",
       "    <tr>\n",
       "      <th>0</th>\n",
       "      <td>1</td>\n",
       "      <td>38.233441</td>\n",
       "    </tr>\n",
       "    <tr>\n",
       "      <th>1</th>\n",
       "      <td>2</td>\n",
       "      <td>29.877630</td>\n",
       "    </tr>\n",
       "    <tr>\n",
       "      <th>2</th>\n",
       "      <td>3</td>\n",
       "      <td>25.140620</td>\n",
       "    </tr>\n",
       "  </tbody>\n",
       "</table>\n",
       "</div>"
      ],
      "text/plain": [
       "   Pclass        Age\n",
       "0       1  38.233441\n",
       "1       2  29.877630\n",
       "2       3  25.140620"
      ]
     },
     "execution_count": 41,
     "metadata": {},
     "output_type": "execute_result"
    }
   ],
   "source": [
    "Age_mean_df = pd.DataFrame(titanic_train_df[titanic_train_df[\"Age\"].notna()].groupby([\"Pclass\"])[\"Age\"].mean())\n",
    "Age_mean_df.reset_index(inplace=True)\n",
    "Age_mean_df"
   ]
  },
  {
   "cell_type": "markdown",
   "metadata": {},
   "source": [
    "#### Filling in the missing age values for the dataset"
   ]
  },
  {
   "cell_type": "code",
   "execution_count": 42,
   "metadata": {},
   "outputs": [],
   "source": [
    "def Age_fill(titanic_df,Age_df):\n",
    "    Age = []\n",
    "    for idx,row in titanic_df.iterrows():\n",
    "        if np.isnan(row[\"Age\"]) and row[\"Pclass\"] == 1:\n",
    "            Age.append(round(Age_df[\"Age\"][0]))\n",
    "        elif np.isnan(row[\"Age\"]) and row[\"Pclass\"] == 2:\n",
    "            Age.append(round(Age_df[\"Age\"][1]))\n",
    "        elif np.isnan(row[\"Age\"]) and row[\"Pclass\"] == 3:\n",
    "            Age.append(round(Age_df[\"Age\"][2]))\n",
    "        else:\n",
    "            Age.append(row[\"Age\"])\n",
    "            \n",
    "    return Age"
   ]
  },
  {
   "cell_type": "code",
   "execution_count": 43,
   "metadata": {},
   "outputs": [],
   "source": [
    "train_df = titanic_train_df.copy()"
   ]
  },
  {
   "cell_type": "code",
   "execution_count": 44,
   "metadata": {},
   "outputs": [],
   "source": [
    "age_filled = Age_fill(train_df[[\"Age\",\"Pclass\"]],Age_mean_df)"
   ]
  },
  {
   "cell_type": "code",
   "execution_count": 48,
   "metadata": {},
   "outputs": [],
   "source": [
    "titanic_train_df[\"Age_Filled\"] = pd.DataFrame(age_filled)"
   ]
  },
  {
   "cell_type": "markdown",
   "metadata": {},
   "source": [
    "#### 4.2 How to fill the 2 missing values in Embarked column?\n",
    "\n",
    "* Mode for Embarked coolumn is used to fill the 2 missing values."
   ]
  },
  {
   "cell_type": "code",
   "execution_count": 50,
   "metadata": {},
   "outputs": [
    {
     "data": {
      "text/plain": [
       "2"
      ]
     },
     "execution_count": 50,
     "metadata": {},
     "output_type": "execute_result"
    }
   ],
   "source": [
    "sum(titanic_train_df[\"Embarked\"].isna())"
   ]
  },
  {
   "cell_type": "code",
   "execution_count": 52,
   "metadata": {},
   "outputs": [],
   "source": [
    "emb = titanic_train_df['Embarked'].mode()\n",
    "titanic_train_df[\"Embarked_filled\"] = titanic_train_df[\"Embarked\"].fillna(str(emb))"
   ]
  },
  {
   "cell_type": "markdown",
   "metadata": {},
   "source": [
    "#### 4.3 One hot encoding categorical features and Scaling continous features.\n",
    "\n",
    "* Creating train and test dataset to use for feature engineering.\n",
    "* Pclass, Sex and Embarked columns are the categorical features for one hot encoding.\n",
    "* Age column is scaled using min max scaler"
   ]
  },
  {
   "cell_type": "code",
   "execution_count": 54,
   "metadata": {},
   "outputs": [],
   "source": [
    "X = titanic_train_df\n",
    "y = titanic_train_df[\"Survived\"]"
   ]
  },
  {
   "cell_type": "code",
   "execution_count": 55,
   "metadata": {},
   "outputs": [],
   "source": [
    "Xtrain, Xtest, ytrain, ytest = train_test_split(X,y,test_size=0.20,random_state=141)"
   ]
  },
  {
   "cell_type": "code",
   "execution_count": 56,
   "metadata": {},
   "outputs": [
    {
     "data": {
      "text/plain": [
       "((712, 16), (712,), (179, 16), (179,))"
      ]
     },
     "execution_count": 56,
     "metadata": {},
     "output_type": "execute_result"
    }
   ],
   "source": [
    "Xtrain.shape, ytrain.shape, Xtest.shape, ytest.shape"
   ]
  },
  {
   "cell_type": "code",
   "execution_count": 57,
   "metadata": {},
   "outputs": [],
   "source": [
    "Xtrain = Xtrain.reset_index()\n",
    "Xtest = Xtest.reset_index()"
   ]
  },
  {
   "cell_type": "markdown",
   "metadata": {},
   "source": [
    "#### One hot encoding the Pclass, Sex and Embark column so that it can be used by the model"
   ]
  },
  {
   "cell_type": "code",
   "execution_count": 58,
   "metadata": {},
   "outputs": [],
   "source": [
    "Xtrain[[\"Pclass_1\",\"Pclass_2\",\"Pclass_3\"]]=pd.get_dummies(Xtrain['Pclass'])\n",
    "Xtrain[[\"Female\",\"Male\"]]=pd.get_dummies(Xtrain['Sex'])\n",
    "Xtrain[['Unnamed',\"Embark_C\",\"Embark_Q\",\"Embark_S\"]]=pd.get_dummies(Xtrain['Embarked_filled'])\n",
    "Xtrain = Xtrain.drop(\"Unnamed\",axis=1)"
   ]
  },
  {
   "cell_type": "code",
   "execution_count": 59,
   "metadata": {},
   "outputs": [],
   "source": [
    "Xtest[[\"Pclass_1\",\"Pclass_2\",\"Pclass_3\"]]=pd.get_dummies(Xtest['Pclass'])\n",
    "Xtest[[\"Female\",\"Male\"]]=pd.get_dummies(Xtest['Sex'])\n",
    "Xtest[[\"Embark_C\",\"Embark_Q\",\"Embark_S\"]]=pd.get_dummies(Xtest['Embarked_filled'])"
   ]
  },
  {
   "cell_type": "markdown",
   "metadata": {},
   "source": [
    "#### Scaling the age column"
   ]
  },
  {
   "cell_type": "code",
   "execution_count": 60,
   "metadata": {},
   "outputs": [],
   "source": [
    "scaler = MinMaxScaler()\n",
    "scaler.fit(train_df[['Age_Filled']])  ;                  # result of ColumnTransformer\n",
    "Age_scaled = scaler.transform(Xtrain[['Age_Filled']])\n",
    "Xtrain[\"Age_Scaled\"] = pd.DataFrame(Age_scaled)"
   ]
  },
  {
   "cell_type": "code",
   "execution_count": 61,
   "metadata": {},
   "outputs": [],
   "source": [
    "scaler = MinMaxScaler()\n",
    "scaler.fit(Xtest[['Age_Filled']])  ;                  # result of ColumnTransformer\n",
    "Age_scaled = scaler.transform(Xtest[['Age_Filled']])\n",
    "Xtest[\"Age_Scaled\"] = pd.DataFrame(Age_scaled)"
   ]
  },
  {
   "cell_type": "code",
   "execution_count": 62,
   "metadata": {},
   "outputs": [
    {
     "data": {
      "text/html": [
       "<div>\n",
       "<style scoped>\n",
       "    .dataframe tbody tr th:only-of-type {\n",
       "        vertical-align: middle;\n",
       "    }\n",
       "\n",
       "    .dataframe tbody tr th {\n",
       "        vertical-align: top;\n",
       "    }\n",
       "\n",
       "    .dataframe thead th {\n",
       "        text-align: right;\n",
       "    }\n",
       "</style>\n",
       "<table border=\"1\" class=\"dataframe\">\n",
       "  <thead>\n",
       "    <tr style=\"text-align: right;\">\n",
       "      <th></th>\n",
       "      <th>index</th>\n",
       "      <th>PassengerId</th>\n",
       "      <th>Survived</th>\n",
       "      <th>Pclass</th>\n",
       "      <th>Name</th>\n",
       "      <th>Sex</th>\n",
       "      <th>Age</th>\n",
       "      <th>SibSp</th>\n",
       "      <th>Parch</th>\n",
       "      <th>Ticket</th>\n",
       "      <th>...</th>\n",
       "      <th>Embarked_filled</th>\n",
       "      <th>Pclass_1</th>\n",
       "      <th>Pclass_2</th>\n",
       "      <th>Pclass_3</th>\n",
       "      <th>Female</th>\n",
       "      <th>Male</th>\n",
       "      <th>Embark_C</th>\n",
       "      <th>Embark_Q</th>\n",
       "      <th>Embark_S</th>\n",
       "      <th>Age_Scaled</th>\n",
       "    </tr>\n",
       "  </thead>\n",
       "  <tbody>\n",
       "    <tr>\n",
       "      <th>0</th>\n",
       "      <td>16</td>\n",
       "      <td>17</td>\n",
       "      <td>0</td>\n",
       "      <td>3</td>\n",
       "      <td>Rice, Master. Eugene</td>\n",
       "      <td>male</td>\n",
       "      <td>2.0</td>\n",
       "      <td>4</td>\n",
       "      <td>1</td>\n",
       "      <td>382652</td>\n",
       "      <td>...</td>\n",
       "      <td>Q</td>\n",
       "      <td>0</td>\n",
       "      <td>0</td>\n",
       "      <td>1</td>\n",
       "      <td>0</td>\n",
       "      <td>1</td>\n",
       "      <td>0</td>\n",
       "      <td>1</td>\n",
       "      <td>0</td>\n",
       "      <td>0.019854</td>\n",
       "    </tr>\n",
       "    <tr>\n",
       "      <th>1</th>\n",
       "      <td>195</td>\n",
       "      <td>196</td>\n",
       "      <td>1</td>\n",
       "      <td>1</td>\n",
       "      <td>Lurette, Miss. Elise</td>\n",
       "      <td>female</td>\n",
       "      <td>58.0</td>\n",
       "      <td>0</td>\n",
       "      <td>0</td>\n",
       "      <td>PC 17569</td>\n",
       "      <td>...</td>\n",
       "      <td>C</td>\n",
       "      <td>1</td>\n",
       "      <td>0</td>\n",
       "      <td>0</td>\n",
       "      <td>1</td>\n",
       "      <td>0</td>\n",
       "      <td>1</td>\n",
       "      <td>0</td>\n",
       "      <td>0</td>\n",
       "      <td>0.723549</td>\n",
       "    </tr>\n",
       "  </tbody>\n",
       "</table>\n",
       "<p>2 rows × 26 columns</p>\n",
       "</div>"
      ],
      "text/plain": [
       "   index  PassengerId  Survived  Pclass                  Name     Sex   Age  \\\n",
       "0     16           17         0       3  Rice, Master. Eugene    male   2.0   \n",
       "1    195          196         1       1  Lurette, Miss. Elise  female  58.0   \n",
       "\n",
       "   SibSp  Parch    Ticket  ...  Embarked_filled Pclass_1 Pclass_2  Pclass_3  \\\n",
       "0      4      1    382652  ...                Q        0        0         1   \n",
       "1      0      0  PC 17569  ...                C        1        0         0   \n",
       "\n",
       "   Female  Male Embark_C  Embark_Q  Embark_S  Age_Scaled  \n",
       "0       0     1        0         1         0    0.019854  \n",
       "1       1     0        1         0         0    0.723549  \n",
       "\n",
       "[2 rows x 26 columns]"
      ]
     },
     "execution_count": 62,
     "metadata": {},
     "output_type": "execute_result"
    }
   ],
   "source": [
    "Xtrain.head(2)"
   ]
  },
  {
   "cell_type": "code",
   "execution_count": 63,
   "metadata": {},
   "outputs": [
    {
     "data": {
      "text/html": [
       "<div>\n",
       "<style scoped>\n",
       "    .dataframe tbody tr th:only-of-type {\n",
       "        vertical-align: middle;\n",
       "    }\n",
       "\n",
       "    .dataframe tbody tr th {\n",
       "        vertical-align: top;\n",
       "    }\n",
       "\n",
       "    .dataframe thead th {\n",
       "        text-align: right;\n",
       "    }\n",
       "</style>\n",
       "<table border=\"1\" class=\"dataframe\">\n",
       "  <thead>\n",
       "    <tr style=\"text-align: right;\">\n",
       "      <th></th>\n",
       "      <th>index</th>\n",
       "      <th>PassengerId</th>\n",
       "      <th>Survived</th>\n",
       "      <th>Pclass</th>\n",
       "      <th>Name</th>\n",
       "      <th>Sex</th>\n",
       "      <th>Age</th>\n",
       "      <th>SibSp</th>\n",
       "      <th>Parch</th>\n",
       "      <th>Ticket</th>\n",
       "      <th>...</th>\n",
       "      <th>Embarked_filled</th>\n",
       "      <th>Pclass_1</th>\n",
       "      <th>Pclass_2</th>\n",
       "      <th>Pclass_3</th>\n",
       "      <th>Female</th>\n",
       "      <th>Male</th>\n",
       "      <th>Embark_C</th>\n",
       "      <th>Embark_Q</th>\n",
       "      <th>Embark_S</th>\n",
       "      <th>Age_Scaled</th>\n",
       "    </tr>\n",
       "  </thead>\n",
       "  <tbody>\n",
       "    <tr>\n",
       "      <th>0</th>\n",
       "      <td>179</td>\n",
       "      <td>180</td>\n",
       "      <td>0</td>\n",
       "      <td>3</td>\n",
       "      <td>Leonard, Mr. Lionel</td>\n",
       "      <td>male</td>\n",
       "      <td>36.0</td>\n",
       "      <td>0</td>\n",
       "      <td>0</td>\n",
       "      <td>LINE</td>\n",
       "      <td>...</td>\n",
       "      <td>S</td>\n",
       "      <td>0</td>\n",
       "      <td>0</td>\n",
       "      <td>1</td>\n",
       "      <td>0</td>\n",
       "      <td>1</td>\n",
       "      <td>0</td>\n",
       "      <td>0</td>\n",
       "      <td>1</td>\n",
       "      <td>0.504808</td>\n",
       "    </tr>\n",
       "    <tr>\n",
       "      <th>1</th>\n",
       "      <td>314</td>\n",
       "      <td>315</td>\n",
       "      <td>0</td>\n",
       "      <td>2</td>\n",
       "      <td>Hart, Mr. Benjamin</td>\n",
       "      <td>male</td>\n",
       "      <td>43.0</td>\n",
       "      <td>1</td>\n",
       "      <td>1</td>\n",
       "      <td>F.C.C. 13529</td>\n",
       "      <td>...</td>\n",
       "      <td>S</td>\n",
       "      <td>0</td>\n",
       "      <td>1</td>\n",
       "      <td>0</td>\n",
       "      <td>0</td>\n",
       "      <td>1</td>\n",
       "      <td>0</td>\n",
       "      <td>0</td>\n",
       "      <td>1</td>\n",
       "      <td>0.605282</td>\n",
       "    </tr>\n",
       "  </tbody>\n",
       "</table>\n",
       "<p>2 rows × 26 columns</p>\n",
       "</div>"
      ],
      "text/plain": [
       "   index  PassengerId  Survived  Pclass                 Name   Sex   Age  \\\n",
       "0    179          180         0       3  Leonard, Mr. Lionel  male  36.0   \n",
       "1    314          315         0       2   Hart, Mr. Benjamin  male  43.0   \n",
       "\n",
       "   SibSp  Parch        Ticket  ...  Embarked_filled Pclass_1 Pclass_2  \\\n",
       "0      0      0          LINE  ...                S        0        0   \n",
       "1      1      1  F.C.C. 13529  ...                S        0        1   \n",
       "\n",
       "   Pclass_3  Female  Male Embark_C  Embark_Q  Embark_S  Age_Scaled  \n",
       "0         1       0     1        0         0         1    0.504808  \n",
       "1         0       0     1        0         0         1    0.605282  \n",
       "\n",
       "[2 rows x 26 columns]"
      ]
     },
     "execution_count": 63,
     "metadata": {},
     "output_type": "execute_result"
    }
   ],
   "source": [
    "Xtest.head(2)"
   ]
  },
  {
   "cell_type": "code",
   "execution_count": 64,
   "metadata": {},
   "outputs": [
    {
     "name": "stdout",
     "output_type": "stream",
     "text": [
      "<class 'pandas.core.frame.DataFrame'>\n",
      "RangeIndex: 712 entries, 0 to 711\n",
      "Data columns (total 26 columns):\n",
      " #   Column           Non-Null Count  Dtype  \n",
      "---  ------           --------------  -----  \n",
      " 0   index            712 non-null    int64  \n",
      " 1   PassengerId      712 non-null    int64  \n",
      " 2   Survived         712 non-null    int64  \n",
      " 3   Pclass           712 non-null    int64  \n",
      " 4   Name             712 non-null    object \n",
      " 5   Sex              712 non-null    object \n",
      " 6   Age              575 non-null    float64\n",
      " 7   SibSp            712 non-null    int64  \n",
      " 8   Parch            712 non-null    int64  \n",
      " 9   Ticket           712 non-null    object \n",
      " 10  Fare             712 non-null    float64\n",
      " 11  Cabin            167 non-null    object \n",
      " 12  Embarked         710 non-null    object \n",
      " 13  SibSp_binned     712 non-null    int64  \n",
      " 14  Parch_binned     712 non-null    int64  \n",
      " 15  Age_Filled       712 non-null    float64\n",
      " 16  Embarked_filled  712 non-null    object \n",
      " 17  Pclass_1         712 non-null    uint8  \n",
      " 18  Pclass_2         712 non-null    uint8  \n",
      " 19  Pclass_3         712 non-null    uint8  \n",
      " 20  Female           712 non-null    uint8  \n",
      " 21  Male             712 non-null    uint8  \n",
      " 22  Embark_C         712 non-null    uint8  \n",
      " 23  Embark_Q         712 non-null    uint8  \n",
      " 24  Embark_S         712 non-null    uint8  \n",
      " 25  Age_Scaled       712 non-null    float64\n",
      "dtypes: float64(4), int64(8), object(6), uint8(8)\n",
      "memory usage: 105.8+ KB\n",
      "- -- -- -- -- -- -- -- -- -- -- -- -- -- -- -- -- -- -- -- -\n",
      "<class 'pandas.core.frame.DataFrame'>\n",
      "RangeIndex: 179 entries, 0 to 178\n",
      "Data columns (total 26 columns):\n",
      " #   Column           Non-Null Count  Dtype  \n",
      "---  ------           --------------  -----  \n",
      " 0   index            179 non-null    int64  \n",
      " 1   PassengerId      179 non-null    int64  \n",
      " 2   Survived         179 non-null    int64  \n",
      " 3   Pclass           179 non-null    int64  \n",
      " 4   Name             179 non-null    object \n",
      " 5   Sex              179 non-null    object \n",
      " 6   Age              139 non-null    float64\n",
      " 7   SibSp            179 non-null    int64  \n",
      " 8   Parch            179 non-null    int64  \n",
      " 9   Ticket           179 non-null    object \n",
      " 10  Fare             179 non-null    float64\n",
      " 11  Cabin            37 non-null     object \n",
      " 12  Embarked         179 non-null    object \n",
      " 13  SibSp_binned     179 non-null    int64  \n",
      " 14  Parch_binned     179 non-null    int64  \n",
      " 15  Age_Filled       179 non-null    float64\n",
      " 16  Embarked_filled  179 non-null    object \n",
      " 17  Pclass_1         179 non-null    uint8  \n",
      " 18  Pclass_2         179 non-null    uint8  \n",
      " 19  Pclass_3         179 non-null    uint8  \n",
      " 20  Female           179 non-null    uint8  \n",
      " 21  Male             179 non-null    uint8  \n",
      " 22  Embark_C         179 non-null    uint8  \n",
      " 23  Embark_Q         179 non-null    uint8  \n",
      " 24  Embark_S         179 non-null    uint8  \n",
      " 25  Age_Scaled       179 non-null    float64\n",
      "dtypes: float64(4), int64(8), object(6), uint8(8)\n",
      "memory usage: 26.7+ KB\n"
     ]
    }
   ],
   "source": [
    "Xtrain.info()\n",
    "print(\"- -\"*20)\n",
    "Xtest.info()"
   ]
  },
  {
   "cell_type": "markdown",
   "metadata": {},
   "source": [
    "## 5: Training the Model\n",
    "* Here we will be training a Logistics Regression model and Random Forest model and compare the accuracy scores for the two models\n",
    "\n",
    "#### Conclusion:\n",
    "* **Random forest model** correctly predicts survival for 84% of the passengers on the train data and 85% on the test data and hence is the recommended model to use."
   ]
  },
  {
   "cell_type": "code",
   "execution_count": 78,
   "metadata": {},
   "outputs": [],
   "source": [
    "Xtrain1 = Xtrain.copy()\n",
    "Xtest1 = Xtest.copy()\n",
    "Xtrain1 = Xtrain1.set_index(\"index\")\n",
    "Xtest1 = Xtest1.set_index(\"index\")"
   ]
  },
  {
   "cell_type": "code",
   "execution_count": 79,
   "metadata": {},
   "outputs": [],
   "source": [
    "Xtrain1 = Xtrain1.drop([\"PassengerId\",\"Survived\",\"Pclass\",\"Name\",\"Sex\",\"Age\",\"SibSp\",\"Parch\",\"Ticket\",\"Fare\",\"Cabin\",\"Embarked\",\"Embarked_filled\",\"Pclass_1\",\"Female\",\"Age_Filled\"],axis=1)\n",
    "Xtest1 = Xtest1.drop([\"PassengerId\",\"Survived\",\"Pclass\",\"Name\",\"Sex\",\"Age\",\"SibSp\",\"Parch\",\"Ticket\",\"Fare\",\"Cabin\",\"Embarked\",\"Embarked_filled\",\"Pclass_1\",\"Female\",\"Age_Filled\"],axis=1)"
   ]
  },
  {
   "cell_type": "code",
   "execution_count": 80,
   "metadata": {},
   "outputs": [
    {
     "data": {
      "text/plain": [
       "((712, 9), (712,), (179, 9), (179,))"
      ]
     },
     "execution_count": 80,
     "metadata": {},
     "output_type": "execute_result"
    }
   ],
   "source": [
    "Xtrain1.shape, ytrain.shape, Xtest1.shape, ytest.shape"
   ]
  },
  {
   "cell_type": "markdown",
   "metadata": {},
   "source": [
    "#### Logistic Regression Model"
   ]
  },
  {
   "cell_type": "code",
   "execution_count": 82,
   "metadata": {},
   "outputs": [
    {
     "data": {
      "text/plain": [
       "' train: 0.797752808988764, test: 0.7988826815642458'"
      ]
     },
     "execution_count": 82,
     "metadata": {},
     "output_type": "execute_result"
    }
   ],
   "source": [
    "lr = LogisticRegression()\n",
    "lr.fit(Xtrain1,ytrain)\n",
    "f' train: {lr.score(Xtrain1,ytrain)}, test: {lr.score(Xtest1,ytest)}'"
   ]
  },
  {
   "cell_type": "code",
   "execution_count": 83,
   "metadata": {},
   "outputs": [],
   "source": [
    "lr_train_score = lr.score(Xtrain1,ytrain)\n",
    "lr_test_score = lr.score(Xtest1,ytest)"
   ]
  },
  {
   "cell_type": "markdown",
   "metadata": {},
   "source": [
    "#### Random Forest Model"
   ]
  },
  {
   "cell_type": "code",
   "execution_count": 95,
   "metadata": {},
   "outputs": [
    {
     "data": {
      "text/plain": [
       "' train: 0.8426966292134831, test: 0.8491620111731844'"
      ]
     },
     "execution_count": 95,
     "metadata": {},
     "output_type": "execute_result"
    }
   ],
   "source": [
    "rf = RandomForestClassifier(n_estimators=100, # number of trees\n",
    "                            max_depth=6,\n",
    "                          random_state=20)\n",
    "rf.fit(Xtrain1,ytrain)\n",
    "f' train: {rf.score(Xtrain1,ytrain)}, test: {rf.score(Xtest1,ytest)}'"
   ]
  },
  {
   "cell_type": "code",
   "execution_count": 96,
   "metadata": {},
   "outputs": [],
   "source": [
    "rf_train_score = rf.score(Xtrain1,ytrain)\n",
    "rf_test_score = rf.score(Xtest1,ytest)"
   ]
  },
  {
   "cell_type": "markdown",
   "metadata": {},
   "source": [
    "#### Creating a table of the scores from the two model"
   ]
  },
  {
   "cell_type": "code",
   "execution_count": 97,
   "metadata": {},
   "outputs": [
    {
     "data": {
      "text/html": [
       "<div>\n",
       "<style scoped>\n",
       "    .dataframe tbody tr th:only-of-type {\n",
       "        vertical-align: middle;\n",
       "    }\n",
       "\n",
       "    .dataframe tbody tr th {\n",
       "        vertical-align: top;\n",
       "    }\n",
       "\n",
       "    .dataframe thead th {\n",
       "        text-align: right;\n",
       "    }\n",
       "</style>\n",
       "<table border=\"1\" class=\"dataframe\">\n",
       "  <thead>\n",
       "    <tr style=\"text-align: right;\">\n",
       "      <th></th>\n",
       "      <th>Model</th>\n",
       "      <th>Train_Score</th>\n",
       "      <th>Test_Score</th>\n",
       "    </tr>\n",
       "  </thead>\n",
       "  <tbody>\n",
       "    <tr>\n",
       "      <th>0</th>\n",
       "      <td>Logistic Regression</td>\n",
       "      <td>0.80</td>\n",
       "      <td>0.80</td>\n",
       "    </tr>\n",
       "    <tr>\n",
       "      <th>1</th>\n",
       "      <td>Random Forest Model</td>\n",
       "      <td>0.84</td>\n",
       "      <td>0.85</td>\n",
       "    </tr>\n",
       "  </tbody>\n",
       "</table>\n",
       "</div>"
      ],
      "text/plain": [
       "                 Model  Train_Score  Test_Score\n",
       "0  Logistic Regression         0.80        0.80\n",
       "1  Random Forest Model         0.84        0.85"
      ]
     },
     "execution_count": 97,
     "metadata": {},
     "output_type": "execute_result"
    }
   ],
   "source": [
    "pd.DataFrame({\"Model\": [\"Logistic Regression\",\"Random Forest Model\"],\n",
    "             \"Train_Score\": [round(lr_train_score,2),round(rf_train_score,2)],\n",
    "             \"Test_Score\": [round(lr_test_score,2),round(rf_test_score,2)]})"
   ]
  },
  {
   "cell_type": "markdown",
   "metadata": {},
   "source": [
    "# Result: Use Random Forest Model"
   ]
  },
  {
   "cell_type": "markdown",
   "metadata": {},
   "source": [
    "#### Cross Validation of the Random forest model"
   ]
  },
  {
   "cell_type": "code",
   "execution_count": 87,
   "metadata": {},
   "outputs": [
    {
     "name": "stderr",
     "output_type": "stream",
     "text": [
      "[Parallel(n_jobs=1)]: Using backend SequentialBackend with 1 concurrent workers.\n"
     ]
    },
    {
     "name": "stdout",
     "output_type": "stream",
     "text": [
      "[CV] END ................................ score: (test=0.792) total time=   0.0s\n",
      "[CV] END ................................ score: (test=0.861) total time=   0.0s\n"
     ]
    },
    {
     "name": "stderr",
     "output_type": "stream",
     "text": [
      "[Parallel(n_jobs=1)]: Done   1 out of   1 | elapsed:    0.1s remaining:    0.0s\n",
      "[Parallel(n_jobs=1)]: Done   2 out of   2 | elapsed:    0.3s remaining:    0.0s\n"
     ]
    },
    {
     "name": "stdout",
     "output_type": "stream",
     "text": [
      "[CV] END ................................ score: (test=0.817) total time=   0.0s\n",
      "[CV] END ................................ score: (test=0.761) total time=   0.0s\n",
      "[CV] END ................................ score: (test=0.775) total time=   0.1s\n",
      "[CV] END ................................ score: (test=0.761) total time=   0.0s\n",
      "[CV] END ................................ score: (test=0.817) total time=   0.1s\n",
      "[CV] END ................................ score: (test=0.859) total time=   0.0s\n",
      "[CV] END ................................ score: (test=0.746) total time=   0.1s\n",
      "[CV] END ................................ score: (test=0.845) total time=   0.0s\n"
     ]
    },
    {
     "name": "stderr",
     "output_type": "stream",
     "text": [
      "[Parallel(n_jobs=1)]: Done  10 out of  10 | elapsed:    1.4s finished\n"
     ]
    }
   ],
   "source": [
    "cross_validation_rf = cross_val_score(estimator=rf, # the model to evaluate\n",
    "                                     X=Xtrain1,\n",
    "                                     y=ytrain,\n",
    "                                     scoring='accuracy', # evaluation metrics\n",
    "                                      cv=10,\n",
    "                                     verbose=3) # cross validation splitting"
   ]
  },
  {
   "cell_type": "code",
   "execution_count": 88,
   "metadata": {},
   "outputs": [
    {
     "name": "stdout",
     "output_type": "stream",
     "text": [
      "Validation accuracy scores: [0.79 0.86 0.82 0.76 0.77 0.76 0.82 0.86 0.75 0.85]\n",
      "\n",
      "mean: 0.8\n",
      "std: 0.04\n"
     ]
    }
   ],
   "source": [
    "print(f'Validation accuracy scores: {np.round(cross_validation_rf,2)}')\n",
    "print(f'\\nmean: {cross_validation_rf.mean():.2}')\n",
    "print(f'std: {cross_validation_rf.std():.1}')"
   ]
  }
 ],
 "metadata": {
  "kernelspec": {
   "display_name": "Python 3",
   "language": "python",
   "name": "python3"
  },
  "language_info": {
   "codemirror_mode": {
    "name": "ipython",
    "version": 3
   },
   "file_extension": ".py",
   "mimetype": "text/x-python",
   "name": "python",
   "nbconvert_exporter": "python",
   "pygments_lexer": "ipython3",
   "version": "3.7.3"
  }
 },
 "nbformat": 4,
 "nbformat_minor": 4
}
